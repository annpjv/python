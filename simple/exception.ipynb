{
 "cells": [
  {
   "cell_type": "code",
   "execution_count": 4,
   "id": "1ce2e5c3",
   "metadata": {},
   "outputs": [
    {
     "name": "stdout",
     "output_type": "stream",
     "text": [
      "oldname: Ann\n",
      "new name: Ann is a good human\n",
      "new name: Ann\n"
     ]
    }
   ],
   "source": [
    "def func1(name):\n",
    "    name+=\" is a good human\"\n",
    "    print(\"new name: \"+name)\n",
    "    return name\n",
    "name=\"Ann\"\n",
    "print(\"oldname: \"+name)\n",
    "func1(name)\n",
    "print(\"new name: \"+name)"
   ]
  },
  {
   "cell_type": "code",
   "execution_count": 13,
   "id": "2a1c255b",
   "metadata": {},
   "outputs": [
    {
     "name": "stdout",
     "output_type": "stream",
     "text": [
      "old list:  ['biriyani', 'pata', 'icecream']\n",
      "old list:  ['biriyani', 'pata', 'icecream']\n",
      "new list:  ['biriyani', 'pata', 'icecream', 'burger']\n",
      "new list:  ['biriyani', 'pata', 'icecream', 'burger']\n"
     ]
    }
   ],
   "source": [
    "def uplist(list):\n",
    "    list.append(\"burger\")\n",
    "    #name+=\" is a good human\"\n",
    "    #print(\"new name: \"+name)\n",
    "    #return name\"\"\n",
    "list=[\"biriyani\",\"pata\",\"icecream\"]\n",
    "print(\"old list: \",str(list))\n",
    "print(\"old list: \",list)\n",
    "uplist(list)\n",
    "print(\"new list: \",str(list))\n",
    "print(\"new list: \",list)\n"
   ]
  },
  {
   "cell_type": "code",
   "execution_count": 1,
   "id": "467a1a0a",
   "metadata": {},
   "outputs": [
    {
     "name": "stdout",
     "output_type": "stream",
     "text": [
      "Inside function\n"
     ]
    }
   ],
   "source": [
    "def divide(num1, num2):\n",
    "    try:\n",
    "        num3 = num1 / num2\n",
    "        print(num3)\n",
    "    except:\n",
    "        print(\"Inside function\")\n",
    "try:\n",
    "    divide(100, 0)\n",
    "except:\n",
    "    print(\"Outside function\")\n",
    " "
   ]
  },
  {
   "cell_type": "code",
   "execution_count": 2,
   "id": "6f908575",
   "metadata": {},
   "outputs": [
    {
     "name": "stdout",
     "output_type": "stream",
     "text": [
      "Zero Division Error Occurred\n"
     ]
    }
   ],
   "source": [
    "num1=100\n",
    "num2=0\n",
    "try:\n",
    "    result=num1/num2\n",
    "    print(result)\n",
    "except ZeroDivisionError:\n",
    "    print(\"Zero Division Error Occurred\")"
   ]
  },
  {
   "cell_type": "code",
   "execution_count": 3,
   "id": "fb8f32eb",
   "metadata": {},
   "outputs": [
    {
     "name": "stdout",
     "output_type": "stream",
     "text": [
      "Value error\n",
      "Finally\n",
      "Done\n"
     ]
    }
   ],
   "source": [
    "def division(value_1,value_2):\n",
    "    try:\n",
    "        return int(value_1)/value_2\n",
    "    except TypeError:\n",
    "        print(\"Type error\")\n",
    "    except ValueError:\n",
    "        print(\"Value error\")\n",
    "    finally:\n",
    "        print(\"Finally\")\n",
    "    print(\"Done\")\n",
    "division('A',10)"
   ]
  },
  {
   "cell_type": "code",
   "execution_count": 5,
   "id": "4d6bc39d",
   "metadata": {},
   "outputs": [
    {
     "name": "stdout",
     "output_type": "stream",
     "text": [
      "Function name error\n",
      "Sum finally\n",
      "Invocation finally\n"
     ]
    }
   ],
   "source": [
    "def find_sum(value_1,value_2):\n",
    "    try:\n",
    "        print(value_1+value_3)\n",
    "    except NameError:\n",
    "        print(\"Function name error\")\n",
    "    finally:\n",
    "        print(\"Sum finally\")\n",
    "try:\n",
    "    find_sum(12,13)\n",
    "except NameError:\n",
    "    print(\"Invocation name error\")\n",
    "finally:\n",
    "    print(\"Invocation finally\")"
   ]
  },
  {
   "cell_type": "code",
   "execution_count": null,
   "id": "d875b627",
   "metadata": {},
   "outputs": [],
   "source": []
  }
 ],
 "metadata": {
  "kernelspec": {
   "display_name": "Python 3 (ipykernel)",
   "language": "python",
   "name": "python3"
  },
  "language_info": {
   "codemirror_mode": {
    "name": "ipython",
    "version": 3
   },
   "file_extension": ".py",
   "mimetype": "text/x-python",
   "name": "python",
   "nbconvert_exporter": "python",
   "pygments_lexer": "ipython3",
   "version": "3.9.12"
  }
 },
 "nbformat": 4,
 "nbformat_minor": 5
}
