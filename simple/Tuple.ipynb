{
 "cells": [
  {
   "cell_type": "code",
   "execution_count": 5,
   "id": "aae1b311",
   "metadata": {},
   "outputs": [
    {
     "name": "stdout",
     "output_type": "stream",
     "text": [
      "Number of elements in the tuple, lunch_menu: 6\n",
      "Element at 2nd index position in lunch_menu: Non-Veg Starter\n",
      "Concatenating tuples:\n",
      "('A', 'B', 'C', 'D')\n",
      "('A', 'B', 'C', 'D', 'E')\n",
      "('A', 'B', 'C', 'D', 'E', 'F', 'G')\n",
      "Iterating the tuple using range()\n",
      "Welcome Drink\n",
      "Veg Starter\n",
      "Non-Veg Starter\n",
      "Veg Main Course\n",
      "Non-Veg Main Course\n",
      "Dessert\n",
      "Iterating the tuple using keyword in\n",
      "Welcome Drink\n",
      "Veg Starter\n",
      "Non-Veg Starter\n",
      "Veg Main Course\n",
      "Non-Veg Main Course\n",
      "Dessert\n",
      "Searching for an element in tuple\n",
      "Dessert is there\n",
      "Tuple slice using positive indices: ('Veg Starter', 'Non-Veg Starter', 'Veg Main Course', 'Non-Veg Main Course')\n",
      "Tuple slice using negative indices: ('Veg Starter', 'Non-Veg Starter', 'Veg Main Course', 'Non-Veg Main Course')\n"
     ]
    },
    {
     "ename": "TypeError",
     "evalue": "'tuple' object does not support item assignment",
     "output_type": "error",
     "traceback": [
      "\u001b[1;31m---------------------------------------------------------------------------\u001b[0m",
      "\u001b[1;31mTypeError\u001b[0m                                 Traceback (most recent call last)",
      "Input \u001b[1;32mIn [5]\u001b[0m, in \u001b[0;36m<cell line: 48>\u001b[1;34m()\u001b[0m\n\u001b[0;32m     45\u001b[0m \u001b[38;5;28mprint\u001b[39m(\u001b[38;5;124m\"\u001b[39m\u001b[38;5;124mTuple slice using negative indices:\u001b[39m\u001b[38;5;124m\"\u001b[39m,lunch_menu[\u001b[38;5;241m-\u001b[39m\u001b[38;5;241m5\u001b[39m:\u001b[38;5;241m-\u001b[39m\u001b[38;5;241m1\u001b[39m])\n\u001b[0;32m     47\u001b[0m \u001b[38;5;66;03m# comment the below code and try to visualize.\u001b[39;00m\n\u001b[1;32m---> 48\u001b[0m lunch_menu[\u001b[38;5;241m0\u001b[39m]\u001b[38;5;241m=\u001b[39m\u001b[38;5;124m\"\u001b[39m\u001b[38;5;124m\"\u001b[39m \u001b[38;5;66;03m#This line will result in an error, i.e., tuple is immutable\u001b[39;00m\n\u001b[0;32m     49\u001b[0m \u001b[38;5;28mprint\u001b[39m(lunch_menu)\n",
      "\u001b[1;31mTypeError\u001b[0m: 'tuple' object does not support item assignment"
     ]
    }
   ],
   "source": [
    "#Creating a tuple\n",
    "lunch_menu=(\"Welcome Drink\",\"Veg Starter\",\"Non-Veg Starter\",\"Veg Main Course\",\"Non-Veg Main Course\",\"Dessert\")\n",
    "\n",
    "#These are also valid\n",
    "sample_tuple=\"A\",\"B\",\"C\"\n",
    "sample_tuple1=(\"D\",)\n",
    "\n",
    "#Length of the tuple\n",
    "print(\"Number of elements in the tuple, lunch_menu:\",len(lunch_menu))\n",
    "\n",
    "#Random read\n",
    "print(\"Element at 2nd index position in lunch_menu:\", lunch_menu[2])\n",
    "\n",
    "print(\"Concatenating tuples:\")\n",
    "#Concatenating two tuples\n",
    "sample_tuple=sample_tuple+sample_tuple1 #This will create a new tuple by combining the elements of existing sample_tuple and sample_tuple1\n",
    "print(sample_tuple)\n",
    "\n",
    "#Adding a single element to a tuple\n",
    "sample_tuple=sample_tuple+(\"E\",)  # This will also create a new tuple, sample_tuple\n",
    "print(sample_tuple)\n",
    "\n",
    "\n",
    "#Adding multiple elements to a tuple\n",
    "sample_tuple=sample_tuple+(\"F\",\"G\")  # This will also create a new tuple, sample_tuple\n",
    "print(sample_tuple)\n",
    "\n",
    "print(\"Iterating the tuple using range()\")\n",
    "for index in range(0,len(lunch_menu)):\n",
    "    print(lunch_menu[index])\n",
    "\n",
    "print(\"Iterating the tuple using keyword in\")\n",
    "for food_type in lunch_menu:\n",
    "    print(food_type)\n",
    "\n",
    "print(\"Searching for an element in tuple\")\n",
    "if \"Dessert\" in lunch_menu:\n",
    "    print(\"Dessert is there\")\n",
    "else:\n",
    "    print(\"Dessert is not there\")        \n",
    "\n",
    "#Slicing a tuple\n",
    "print(\"Tuple slice using positive indices:\",lunch_menu[1:5])\n",
    "\n",
    "print(\"Tuple slice using negative indices:\",lunch_menu[-5:-1])\n",
    "\n",
    "# comment the below code and try to visualize.\n",
    "lunch_menu[0]=\"\" #This line will result in an error, i.e., tuple is immutable\n",
    "print(lunch_menu)"
   ]
  },
  {
   "cell_type": "code",
   "execution_count": 2,
   "id": "4cca8e45",
   "metadata": {},
   "outputs": [
    {
     "name": "stdout",
     "output_type": "stream",
     "text": [
      "['Welcome drink', 'Vegstarter', 'nonveg starter', 'veg main', 'non veg main', 'dessert']\n"
     ]
    }
   ],
   "source": [
    "#converting to list\n",
    "menutu=list(menu)\n",
    "print(menutu)"
   ]
  },
  {
   "cell_type": "code",
   "execution_count": null,
   "id": "fef602f7",
   "metadata": {},
   "outputs": [],
   "source": []
  }
 ],
 "metadata": {
  "kernelspec": {
   "display_name": "Python 3 (ipykernel)",
   "language": "python",
   "name": "python3"
  },
  "language_info": {
   "codemirror_mode": {
    "name": "ipython",
    "version": 3
   },
   "file_extension": ".py",
   "mimetype": "text/x-python",
   "name": "python",
   "nbconvert_exporter": "python",
   "pygments_lexer": "ipython3",
   "version": "3.9.12"
  }
 },
 "nbformat": 4,
 "nbformat_minor": 5
}
