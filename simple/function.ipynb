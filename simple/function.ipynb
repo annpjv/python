{
 "cells": [
  {
   "cell_type": "code",
   "execution_count": 1,
   "id": "f8ce359d",
   "metadata": {},
   "outputs": [
    {
     "name": "stdout",
     "output_type": "stream",
     "text": [
      "first:  Ann\n",
      "last:  Vinu\n"
     ]
    }
   ],
   "source": [
    "def welcome(data1,data2):\n",
    "    print(\"first: \",data1)\n",
    "    print(\"last: \",data2)\n",
    "welcome (\"Ann\",\"Vinu\")"
   ]
  },
  {
   "cell_type": "code",
   "execution_count": 14,
   "id": "dd312ece",
   "metadata": {},
   "outputs": [
    {
     "name": "stdout",
     "output_type": "stream",
     "text": [
      "30\n"
     ]
    }
   ],
   "source": [
    "def calculate_sum(data1, data2):\n",
    "    #All the statements in the block of code must have the same level of indentation\n",
    "    result_sum=data1+data2\n",
    "    return result_sum\n",
    "\n",
    "result=calculate_sum(10,20)\n",
    "print(result)"
   ]
  },
  {
   "cell_type": "code",
   "execution_count": 13,
   "id": "c61affcb",
   "metadata": {},
   "outputs": [
    {
     "name": "stdout",
     "output_type": "stream",
     "text": [
      "your age  38\n"
     ]
    }
   ],
   "source": [
    "#AGE CALCULATION\n",
    "def cal_age(data1):\n",
    "    age=2022-data1\n",
    "    print(\"your age \",age)\n",
    "cal_age(1984)"
   ]
  },
  {
   "cell_type": "code",
   "execution_count": 15,
   "id": "d6b70ec6",
   "metadata": {},
   "outputs": [
    {
     "name": "stdout",
     "output_type": "stream",
     "text": [
      "36.66666666666667\n"
     ]
    }
   ],
   "source": [
    "#Write a Python program that converts temperature in Celsius to Fahrenheit and vice versa. Implement the requirements using functions.\n",
    "#Hint: 0C= (0F-32)*(5/9)\n",
    "def temprature(temp):\n",
    "    celsius = (temp - 32)*(5/9)\n",
    "    return(celsius)\n",
    "\n",
    "print(temprature(98))"
   ]
  },
  {
   "cell_type": "code",
   "execution_count": 16,
   "id": "3a21b6bf",
   "metadata": {},
   "outputs": [
    {
     "name": "stdout",
     "output_type": "stream",
     "text": [
      "Total Ticket Cost: 204910.35\n",
      "Total Ticket Cost: 120535.5\n"
     ]
    }
   ],
   "source": [
    "\"\"\"The flight ticket rates for a round-trip (Mumbai->Dubai) were as follows: \n",
    "Rate per Adult: Rs. 37550.0 \n",
    "Rate per Child: 1/3rd of the rate per adult \n",
    "Service Tax: 7% of the ticket amount (including all passengers) \n",
    "As it was a holiday season, the airline also offered 10% discount on the final ticket cost (after inclusion of the service tax).\n",
    "Find and display the total ticket cost for a group which had adults and children.\n",
    "\n",
    "Test the program with different input values for number of adults and children.\n",
    "ample Input\n",
    "\n",
    "Expected Output\n",
    "\n",
    "Number of adults 5\n",
    "Number of children 2\n",
    "Total Ticket Cost: 204910.35\n",
    "\n",
    "Number of adults3\n",
    "Number of children1\n",
    "Total Ticket Cost: 120535.5\"\"\" \n",
    "\n",
    "#lex_auth_01269361601342668881\n",
    "def calculate_total_ticket_cost(no_of_adults, no_of_children):\n",
    "    total_ticket_cost=0\n",
    "    #Write your logic here\n",
    "    adult_cost=37550\n",
    "    child=adult_cost/3\n",
    "    cost=no_of_adults*adult_cost+ no_of_children*child\n",
    "    service_tax = cost * (7/100)\n",
    "    overall_total = service_tax + cost\n",
    "    discount = overall_total * (10/100)\n",
    "    total_ticket_cost = overall_total - discount\n",
    "    return total_ticket_cost\n",
    "\n",
    "\n",
    "#Provide different values for no_of_adults, no_of_children and test your program\n",
    "total_ticket_cost=calculate_total_ticket_cost(5,2)\n",
    "print(\"Total Ticket Cost:\",total_ticket_cost)\n",
    "total_ticket_cost=calculate_total_ticket_cost(3,1)\n",
    "print(\"Total Ticket Cost:\",total_ticket_cost)\n"
   ]
  }
 ],
 "metadata": {
  "kernelspec": {
   "display_name": "Python 3 (ipykernel)",
   "language": "python",
   "name": "python3"
  },
  "language_info": {
   "codemirror_mode": {
    "name": "ipython",
    "version": 3
   },
   "file_extension": ".py",
   "mimetype": "text/x-python",
   "name": "python",
   "nbconvert_exporter": "python",
   "pygments_lexer": "ipython3",
   "version": "3.9.12"
  }
 },
 "nbformat": 4,
 "nbformat_minor": 5
}
