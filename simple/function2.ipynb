{
 "cells": [
  {
   "cell_type": "code",
   "execution_count": 1,
   "id": "1f5bbce3",
   "metadata": {},
   "outputs": [
    {
     "name": "stdout",
     "output_type": "stream",
     "text": [
      "0 [12, -9, 2]\n"
     ]
    }
   ],
   "source": [
    "def check_loss(game_history,game_points,total):\n",
    "    if game_history[1] == 0:\n",
    "        game_points[1] -= 1\n",
    "    else:\n",
    "        loss_points = game_history[1] * 2\n",
    "        game_points[1] -= loss_points\n",
    "\n",
    "    total = game_points[0] + game_points[1] + game_points[2]\n",
    "game_history = [4,0,2]\n",
    "game_points  = [12,-4,2]\n",
    "total = 0\n",
    "check_loss(game_history, game_points, total)\n",
    "game_history = [5,2,2]\n",
    "check_loss(game_history, game_points, total)\n",
    "print(total,game_points)"
   ]
  },
  {
   "cell_type": "code",
   "execution_count": 2,
   "id": "ae3ab411",
   "metadata": {},
   "outputs": [
    {
     "name": "stdout",
     "output_type": "stream",
     "text": [
      "0\n",
      "0\n"
     ]
    }
   ],
   "source": [
    "result=0\n",
    "def find_sum(num1,num2):\n",
    "    if(num1!=num2):\n",
    "        result=num1+num2\n",
    "    else:\n",
    "        result=2*(num1+num2)\n",
    "find_sum(3,4)\n",
    "print(result)\n",
    "find_sum(5,5)\n",
    "print(result)"
   ]
  },
  {
   "cell_type": "code",
   "execution_count": 3,
   "id": "ba2a1983",
   "metadata": {},
   "outputs": [
    {
     "ename": "NameError",
     "evalue": "name 'result_avg' is not defined",
     "output_type": "error",
     "traceback": [
      "\u001b[1;31m---------------------------------------------------------------------------\u001b[0m",
      "\u001b[1;31mNameError\u001b[0m                                 Traceback (most recent call last)",
      "Input \u001b[1;32mIn [3]\u001b[0m, in \u001b[0;36m<cell line: 7>\u001b[1;34m()\u001b[0m\n\u001b[0;32m      5\u001b[0m     result_avg\u001b[38;5;241m=\u001b[39mresult_sum\u001b[38;5;241m/\u001b[39m\u001b[38;5;28mlen\u001b[39m(list_num)\n\u001b[0;32m      6\u001b[0m find_avg([\u001b[38;5;241m5\u001b[39m,\u001b[38;5;241m8\u001b[39m,\u001b[38;5;241m5\u001b[39m])\n\u001b[1;32m----> 7\u001b[0m \u001b[38;5;28mprint\u001b[39m(\u001b[43mresult_avg\u001b[49m)\n",
      "\u001b[1;31mNameError\u001b[0m: name 'result_avg' is not defined"
     ]
    }
   ],
   "source": [
    "def find_avg(list_num):\n",
    "    result_sum=0\n",
    "    for num in list_num:\n",
    "        result_sum+=num\n",
    "    result_avg=result_sum/len(list_num)\n",
    "find_avg([5,8,5])\n",
    "print(result_avg)\n",
    " "
   ]
  },
  {
   "cell_type": "code",
   "execution_count": 4,
   "id": "0b809ec9",
   "metadata": {},
   "outputs": [
    {
     "name": "stdout",
     "output_type": "stream",
     "text": [
      "4 3 4 5 "
     ]
    }
   ],
   "source": [
    "def func(word, char=\"A\"):\n",
    "    if(char==\"A\"):\n",
    "        return len(word[1:])\n",
    "    elif(char==\"B\"):\n",
    "        return len(word[2:])\n",
    "    else:\n",
    "        return len(word)\n",
    "\n",
    "print(func(\"Apple\",\"A\"),end=\" \")\n",
    "print(func(\"Apple\",\"B\"),end=\" \")\n",
    "print(func(\"Apple\"),end=\" \")\n",
    "print(func(\"Apple\",\"C\"),end=\" \")\n",
    " "
   ]
  },
  {
   "cell_type": "code",
   "execution_count": 5,
   "id": "f0238439",
   "metadata": {},
   "outputs": [
    {
     "name": "stdout",
     "output_type": "stream",
     "text": [
      "2 None\n"
     ]
    }
   ],
   "source": [
    "def func(sample, res, key,val):\n",
    "    index =- 1\n",
    "    if(key in sample):\n",
    "        res = True\n",
    "        index = sample.index(key)\n",
    "        values[index] = val\n",
    "    else:\n",
    "        res = False\n",
    "    return index\n",
    "\n",
    "res = None\n",
    "sample = [\"A\",\"B\",\"C\",\"D\"]\n",
    "values = [1,1,3,4,5]\n",
    "index = func(sample,res,\"B\",2)\n",
    "print(values[index], res)\n",
    " "
   ]
  },
  {
   "cell_type": "code",
   "execution_count": null,
   "id": "fb217106",
   "metadata": {},
   "outputs": [],
   "source": [
    "\"\"\"Write a Python function to find all the Strong numbers in a given list of numbers.\n",
    "Write another function to find and return the factorial of a number. Use it to solve the problem.\n",
    "\n",
    "Example:\n",
    "A number is considered to be a Strong number if sum of the factorial of its digits is equal to the number itself. \n",
    "145 is a Strong number as 1! + 4! + 5! = 145. \n",
    "\n",
    "Sample Input\n",
    "num_list = [145,375,0,100,2]\n",
    "\n",
    "Expected Output\n",
    "[145, 2]\n",
    "\n",
    " \"\"\"\n",
    "def factorial(number):\n",
    "    if number == 1:\n",
    "        return (number)\n",
    "    elif number == 0:\n",
    "        return 1\n",
    "    else:\n",
    "        return (number * factorial(number-1))\n",
    "\n",
    "\n",
    "def find_strong_numbers(num_list):\n",
    "    result = []\n",
    "    for num in num_list:\n",
    "        temp = str(num)\n",
    "        answer = 0\n",
    "        for t in temp:\n",
    "            answer = answer + factorial(int(t))\n",
    "        if num == answer:\n",
    "            result.append(num)\n",
    "    return (result)\n",
    "\n",
    "num_list=[145,375,100,2,10]\n",
    "strong_num_list=find_strong_numbers(num_list)\n",
    "print(strong_num_list)"
   ]
  }
 ],
 "metadata": {
  "kernelspec": {
   "display_name": "Python 3 (ipykernel)",
   "language": "python",
   "name": "python3"
  },
  "language_info": {
   "codemirror_mode": {
    "name": "ipython",
    "version": 3
   },
   "file_extension": ".py",
   "mimetype": "text/x-python",
   "name": "python",
   "nbconvert_exporter": "python",
   "pygments_lexer": "ipython3",
   "version": "3.9.12"
  }
 },
 "nbformat": 4,
 "nbformat_minor": 5
}
