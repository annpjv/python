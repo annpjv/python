{
 "cells": [
  {
   "cell_type": "code",
   "execution_count": null,
   "id": "2d03ea39",
   "metadata": {},
   "outputs": [],
   "source": [
    "a=5\n",
    "if a<10:\n",
    "    print(\"Number is less\")\n",
    "else:\n",
    "    print(\"Number is more\")\n",
    "    "
   ]
  },
  {
   "cell_type": "code",
   "execution_count": null,
   "id": "2ef9207f",
   "metadata": {},
   "outputs": [],
   "source": [
    "temp=input(\"enter temperature \")\n",
    "if int(temp)<10:\n",
    "    print(\"cold\")\n",
    "elif int(temp)>=10 and int(temp)<30:\n",
    "    print(\"pleasent\")\n",
    "else:\n",
    "    print(\"hot\")\n",
    "    "
   ]
  },
  {
   "cell_type": "code",
   "execution_count": null,
   "id": "b82e277b",
   "metadata": {},
   "outputs": [],
   "source": [
    "#alternate way to convert inputs to int\n",
    "temp=int(input(\"enter temperature \"))\n",
    "if temp<10:\n",
    "    print(\"cold\")\n",
    "elif temp>=10 and int(temp)<30:\n",
    "    print(\"pleasent\")\n",
    "else:\n",
    "    print(\"hot\")\n",
    "    "
   ]
  },
  {
   "cell_type": "code",
   "execution_count": null,
   "id": "60bc4b6a",
   "metadata": {},
   "outputs": [],
   "source": [
    "def collect_tax(x,y):\n",
    "    tax=x+y\n",
    "    return tax\n",
    "\n",
    "a=5000\n",
    "b=12000\n",
    "result=collect_tax(a,b)\n",
    "print(result)\n",
    " "
   ]
  },
  {
   "cell_type": "code",
   "execution_count": 4,
   "id": "ee1ab388",
   "metadata": {},
   "outputs": [
    {
     "name": "stdout",
     "output_type": "stream",
     "text": [
      "Number of baggage:10\n",
      "No. of baggage remaining: 0\n"
     ]
    }
   ],
   "source": [
    "baggage_count=10\n",
    "no_of_baggage_picked=0\n",
    "while(baggage_count>0):\n",
    "    no_of_baggage_picked = (int)(input (\"Number of baggage:\"))\n",
    "    baggage_count = baggage_count - no_of_baggage_picked\n",
    "    print(\"No. of baggage remaining:\",baggage_count)"
   ]
  },
  {
   "cell_type": "code",
   "execution_count": 11,
   "id": "0828bf42",
   "metadata": {},
   "outputs": [
    {
     "name": "stdout",
     "output_type": "stream",
     "text": [
      "The current number is  1\n",
      "The current number is  2\n",
      "The current number is  3\n",
      "The current number is  4\n",
      "The current number is  5\n",
      "---------------------------\n",
      "The current number is  1\n",
      "The current number is  2\n",
      "The current number is  3\n",
      "The current number is  4\n",
      "The current number is  5\n",
      "---------------------------\n",
      "The current number is  1\n",
      "The current number is  2\n",
      "The current number is  3\n",
      "The current number is  4\n",
      "---------------------------\n",
      "The current number is  1\n",
      "The current number is  3\n",
      "The current number is  5\n",
      "---------------------------\n",
      "The current number is  5\n",
      "The current number is  4\n",
      "The current number is  3\n",
      "The current number is  2\n",
      "The current number is  1\n"
     ]
    }
   ],
   "source": [
    "#for loop\n",
    "for number in 1,2,3,4,5:\n",
    "    print (\"The current number is \",number)\n",
    "    \n",
    "print(\"---------------------------\")\n",
    "\n",
    "n=[1,2,3,4,5]\n",
    "for number in n:\n",
    "    print (\"The current number is \",number)\n",
    "    \n",
    "print(\"---------------------------\")\n",
    "    \n",
    "for number in range(1,5):\n",
    "    print (\"The current number is \",number)\n",
    "\n",
    "print(\"---------------------------\")\n",
    "\n",
    "for number in range(1,7,2):\n",
    "    print (\"The current number is \",number)\n",
    "\n",
    "print(\"---------------------------\")\n",
    "\n",
    "for number in range(5,0,-1):\n",
    "    print (\"The current number is \",number)\n"
   ]
  },
  {
   "cell_type": "code",
   "execution_count": 14,
   "id": "8fc9d2a2",
   "metadata": {},
   "outputs": [],
   "source": [
    "#How many times \"executed\" will be printed in the output?\n",
    "\n",
    "for variable_1 in range(1,5,-1):\n",
    "    print(\"executed\")\n",
    "for variable_1 in range(1,5,-1):\n",
    "    print(\"executed\")\n",
    " #ANS 0"
   ]
  },
  {
   "cell_type": "code",
   "execution_count": 15,
   "id": "e123a071",
   "metadata": {},
   "outputs": [
    {
     "name": "stdout",
     "output_type": "stream",
     "text": [
      "TPF\n",
      "Not TPF\n",
      "Not TPF\n",
      "Not TPF\n",
      "TPF\n",
      "TPF\n",
      "Not TPF\n"
     ]
    }
   ],
   "source": [
    "\n",
    "#How many times \"TPF\" will be printed in the output?\n",
    "\n",
    "grade_list = [\"A+\",\"A-\",\"B\",\"B+\",\"A+\",\"A+\",\"A-\"]\n",
    "for grade in grade_list:\n",
    "    if grade == \"A+\":\n",
    "        print(\"TPF\")\n",
    "    else:\n",
    "        print(\"Not TPF\")"
   ]
  },
  {
   "cell_type": "code",
   "execution_count": 16,
   "id": "a32d614d",
   "metadata": {},
   "outputs": [
    {
     "name": "stdout",
     "output_type": "stream",
     "text": [
      "25\n",
      "26\n",
      "27\n",
      "28\n"
     ]
    }
   ],
   "source": [
    "#Predict the output of the following code snippet.\n",
    "\n",
    "number=28\n",
    "for num in range(25,30):\n",
    "    if(number>num):\n",
    "        print(num)\n",
    "    else:\n",
    "        print(num)\n",
    "        break"
   ]
  },
  {
   "cell_type": "code",
   "execution_count": 17,
   "id": "7baa4bf6",
   "metadata": {},
   "outputs": [
    {
     "name": "stdout",
     "output_type": "stream",
     "text": [
      "45 50 90 "
     ]
    }
   ],
   "source": [
    "#Predict the output of the following code snippet.\n",
    "\n",
    "for num in 23, 45, 50, 65, 76, 90:\n",
    "    if(num%5!=0):\n",
    "        continue\n",
    "    if(num%10==0):\n",
    "        print(num, end=\" \")\n",
    "        continue\n",
    "    if(num%3==0):\n",
    "        print(num, end=\" \")"
   ]
  },
  {
   "cell_type": "code",
   "execution_count": 18,
   "id": "0fad4050",
   "metadata": {},
   "outputs": [
    {
     "name": "stdout",
     "output_type": "stream",
     "text": [
      "10 20 15 30 "
     ]
    }
   ],
   "source": [
    "#Predict the output of the following code snippet.\n",
    "\n",
    "for number in 10,15:\n",
    "    for counter in range(1,3):\n",
    "        print(number*counter, end=\" \")\n",
    " "
   ]
  },
  {
   "cell_type": "code",
   "execution_count": 19,
   "id": "60c8818d",
   "metadata": {},
   "outputs": [
    {
     "name": "stdout",
     "output_type": "stream",
     "text": [
      "12\n"
     ]
    }
   ],
   "source": [
    "#What will be printed in the output after the executing the code below?\n",
    "\n",
    "numbers_list = [98,45,60,71,90]\n",
    "count = 10\n",
    "for number in numbers_list:\n",
    "    if number % 10 == 0:\n",
    "        count -= 1\n",
    "        continue\n",
    "    counter = 0\n",
    "    while counter < 2:\n",
    "        last_digit = number % 10\n",
    "        number = number // 10\n",
    "        if last_digit > 4:\n",
    "            count += 1\n",
    "            break\n",
    "        count += 1\n",
    "        counter += 1\n",
    "print(count)"
   ]
  },
  {
   "cell_type": "code",
   "execution_count": 22,
   "id": "6bb8577c",
   "metadata": {},
   "outputs": [
    {
     "name": "stdout",
     "output_type": "stream",
     "text": [
      "Sum of digits: 6\n"
     ]
    }
   ],
   "source": [
    "\"\"\"\"Write a Python program to find the sum of digits of a given number. E.g. Sum of number 123 will be 6\n",
    "Note: Initialize the number with various values and test your program.\"\"\"\n",
    "#lex_auth_012693749623193600122\n",
    "\n",
    "def find_sum_of_digits(number):\n",
    "    sum_of_digits=0\n",
    "    while(number>0):\n",
    "        digit=number%10\n",
    "        number=number//10\n",
    "        sum_of_digits=sum_of_digits+digit\n",
    "    #Write your logic here\n",
    "    return sum_of_digits\n",
    "\n",
    "#Provide different values for number and test your program\n",
    "sum_of_digits=find_sum_of_digits(123)\n",
    "print(\"Sum of digits:\",sum_of_digits)"
   ]
  },
  {
   "cell_type": "code",
   "execution_count": 23,
   "id": "465238b6",
   "metadata": {},
   "outputs": [
    {
     "name": "stdout",
     "output_type": "stream",
     "text": [
      "Security check of passenger: 1 -- baggage: 1 baggage cleared\n",
      "Security check of passenger: 1 -- baggage: 2 baggage cleared\n",
      "Security check of passenger: 2 -- baggage: 1 baggage cleared\n",
      "Security check of passenger: 2 -- baggage: 2 baggage cleared\n",
      "Security check of passenger: 3 -- baggage: 1 baggage cleared\n",
      "Security check of passenger: 3 -- baggage: 2 baggage cleared\n",
      "Security check of passenger: 4 -- baggage: 1 baggage cleared\n",
      "Security check of passenger: 4 -- baggage: 2 baggage cleared\n",
      "Security check of passenger: 5 -- baggage: 1 baggage cleared\n",
      "Security check of passenger: 5 -- baggage: 2 baggage cleared\n"
     ]
    }
   ],
   "source": [
    "#nested loops, execute and observe the results.\n",
    "number_of_passengers=5\n",
    "number_of_baggage=2\n",
    "security_check=True\n",
    "for passenger_count in range(1, number_of_passengers+1):\n",
    "    for baggage_count in range(1,number_of_baggage+1):\n",
    "        if(security_check==True):\n",
    "            print(\"Security check of passenger:\", passenger_count, \"-- baggage:\", baggage_count,\"baggage cleared\")\n",
    "        else:\n",
    "            print(\"Security check of passenger:\", passenger_count, \"-- baggage:\", baggage_count,\"baggage not cleared\") "
   ]
  },
  {
   "cell_type": "code",
   "execution_count": 24,
   "id": "1340a85f",
   "metadata": {},
   "outputs": [
    {
     "name": "stdout",
     "output_type": "stream",
     "text": [
      "Security check of passenger: 1 -- baggage: 1 baggage cleared\n",
      "Security check of passenger: 1 -- baggage: 2 baggage cleared\n",
      "Security check of passenger: 2 -- baggage: 1 baggage cleared\n",
      "Security check of passenger: 2 -- baggage: 2 baggage cleared\n",
      "Security check of passenger: 3 -- baggage: 1 baggage cleared\n",
      "Security check of passenger: 3 -- baggage: 2 baggage cleared\n",
      "Security check of passenger: 4 -- baggage: 1 baggage cleared\n",
      "Security check of passenger: 4 -- baggage: 2 baggage cleared\n",
      "Security check of passenger: 5 -- baggage: 1 baggage cleared\n",
      "Security check of passenger: 5 -- baggage: 2 baggage cleared\n"
     ]
    }
   ],
   "source": [
    "#two different forms of loops, execute and observe the results.\n",
    "number_of_passengers=5\n",
    "number_of_baggage=2\n",
    "security_check=True\n",
    "for passenger_count in range(1, number_of_passengers+1):\n",
    "    baggage_count =1\n",
    "    while (baggage_count<=number_of_baggage):\n",
    "        if(security_check==True):\n",
    "            print(\"Security check of passenger:\", passenger_count, \"-- baggage:\", baggage_count,\"baggage cleared\")\n",
    "        else:\n",
    "            print(\"Security check of passenger:\", passenger_count, \"-- baggage:\", baggage_count,\"baggage not cleared\")\n",
    "        baggage_count+=1"
   ]
  },
  {
   "cell_type": "code",
   "execution_count": 25,
   "id": "0833634d",
   "metadata": {},
   "outputs": [
    {
     "name": "stdout",
     "output_type": "stream",
     "text": [
      "Proceed with normal security check\n",
      "Check the person\n",
      "Check for cabin baggage\n",
      "Proceed with normal security check\n",
      "Check the person\n",
      "Check for cabin baggage\n",
      "No check required\n",
      "Proceed with normal security check\n",
      "Check the person\n",
      "Check for cabin baggage\n",
      "No check required\n",
      "Declare emergency in the airport\n"
     ]
    }
   ],
   "source": [
    "\"\"\"Go through the below code and guess the output. Assume A – Adult passenger, C- Child, FC – Flight Captain, FA – Flight Attendant, SP – Suspicious passenger. \"\"\"\n",
    "for passenger in \"A\",\"A\", \"FC\", \"C\", \"FA\",  \"SP\", \"A\", \"A\":\n",
    "    if(passenger==\"FC\" or passenger==\"FA\"):\n",
    "        print(\"No check required\")\n",
    "        continue\n",
    "    if(passenger==\"SP\"):\n",
    "        print(\"Declare emergency in the airport\")\n",
    "        break\n",
    "    if(passenger==\"A\" or passenger==\"C\"):\n",
    "        print(\"Proceed with normal security check\")\n",
    "    print(\"Check the person\")\n",
    "    print(\"Check for cabin baggage\")\n",
    " "
   ]
  },
  {
   "cell_type": "code",
   "execution_count": 26,
   "id": "88a4c060",
   "metadata": {},
   "outputs": [
    {
     "name": "stdout",
     "output_type": "stream",
     "text": [
      "Proceed with normal security check\n",
      "Check the person\n",
      "Check for cabin baggage\n",
      "Proceed with normal security check\n",
      "Check the person\n",
      "Check for cabin baggage\n",
      "No check required\n",
      "Proceed with normal security check\n",
      "Check the person\n",
      "Check for cabin baggage\n",
      "No check required\n",
      "Declare emergency in the airport\n"
     ]
    }
   ],
   "source": [
    "#Try out the code having continue and break statements, execute and observe the results.\n",
    "for passenger in \"A\",\"A\", \"FC\", \"C\", \"FA\",  \"SP\", \"A\", \"A\":\n",
    "    if(passenger==\"FC\" or passenger==\"FA\"):\n",
    "        print(\"No check required\")\n",
    "        continue  \n",
    "        \n",
    "    if(passenger==\"SP\"):\n",
    "        print(\"Declare emergency in the airport\")\n",
    "        break\n",
    "         \n",
    "    if(passenger==\"A\" or passenger==\"C\"):\n",
    "        print(\"Proceed with normal security check\")\n",
    "        \n",
    "    print(\"Check the person\")\n",
    "    print(\"Check for cabin baggage\")"
   ]
  },
  {
   "cell_type": "code",
   "execution_count": null,
   "id": "bb621779",
   "metadata": {},
   "outputs": [],
   "source": []
  }
 ],
 "metadata": {
  "kernelspec": {
   "display_name": "Python 3 (ipykernel)",
   "language": "python",
   "name": "python3"
  },
  "language_info": {
   "codemirror_mode": {
    "name": "ipython",
    "version": 3
   },
   "file_extension": ".py",
   "mimetype": "text/x-python",
   "name": "python",
   "nbconvert_exporter": "python",
   "pygments_lexer": "ipython3",
   "version": "3.9.12"
  }
 },
 "nbformat": 4,
 "nbformat_minor": 5
}
