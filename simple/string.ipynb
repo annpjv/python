{
 "cells": [
  {
   "cell_type": "code",
   "execution_count": 1,
   "id": "850e4358",
   "metadata": {},
   "outputs": [
    {
     "name": "stdout",
     "output_type": "stream",
     "text": [
      "Length of the PAN card number: 10\n",
      "PAN card\n",
      "Iterating the string using range()\n",
      "A\n",
      "A\n",
      "B\n",
      "G\n",
      "T\n",
      "6\n",
      "7\n",
      "1\n",
      "5\n",
      "H\n",
      "Iterating the string using keyword in\n",
      "A\n",
      "A\n",
      "B\n",
      "G\n",
      "T\n",
      "6\n",
      "7\n",
      "1\n",
      "5\n",
      "H\n",
      "Searching for a character in string\n",
      "Character is not present\n"
     ]
    }
   ],
   "source": [
    "#Creating a string\n",
    "pancard_number=\"AABGT6715H\"\n",
    "\n",
    "#Length of the string\n",
    "print(\"Length of the PAN card number:\", len(pancard_number))\n",
    "\n",
    "#Concatenating two strings\n",
    "name1 =\"PAN \"\n",
    "name2=\"card\"\n",
    "name=name1+name2\n",
    "print(name)\n",
    "\n",
    "print(\"Iterating the string using range()\")\n",
    "for index in range(0,len(pancard_number)):\n",
    "    print(pancard_number[index])\n",
    "    \n",
    "print(\"Iterating the string using keyword in\")\n",
    "for value in pancard_number:\n",
    "    print(value)\n",
    "\n",
    "print(\"Searching for a character in string\")\n",
    "if \"Z\" in pancard_number:\n",
    "    print(\"Character present\")\n",
    "else:\n",
    "    print(\"Character is not present\")\n"
   ]
  },
  {
   "cell_type": "code",
   "execution_count": 4,
   "id": "912a27a9",
   "metadata": {},
   "outputs": [
    {
     "name": "stdout",
     "output_type": "stream",
     "text": [
      "['AI:Ban:Lon:103', 'AI:Ban:Lon:104', 'AI:Ban:Lon:105', 'AI:Ban:Lon:106', 'AI:Ban:Lon:107']\n"
     ]
    }
   ],
   "source": [
    "\"\"\"Write a python program to generate the ticket numbers for specified number of passengers traveling in a flight as per the details mentioned below:\n",
    "The ticket number should be generated as airline:src:dest:number\n",
    "where\n",
    "\n",
    "Consider AI as the value for airline\n",
    "src and dest should be the first three characters of the source and destination cities.\n",
    "number should be auto-generated starting from 101\n",
    "The program should return the list of ticket numbers of last five passengers.\n",
    "Note: If passenger count is less than 5, return the list of all generated ticket numbers.\n",
    "\n",
    "airline = BA\n",
    "source = Australia\n",
    "destination = France\n",
    "no_of_passengers = 2\n",
    "Output\n",
    "['BA:Aus:Fra:101', 'BA:Aus:Fra:102']\n",
    "\n",
    "\"\"\"\n",
    "\n",
    "def generate_ticket(airline,source,destination,no_of_passengers):\n",
    "    ticket_number_list=[]\n",
    "    #Write your logic here\n",
    "    i = 0\n",
    "    if no_of_passengers < 5:\n",
    "        while no_of_passengers != 0:\n",
    "            ticket_number_list.append(airline + \":\" + source[:3] + \":\" + destination[:3] + \":\" + str(101+i))\n",
    "            i = i+1\n",
    "            no_of_passengers = no_of_passengers - 1\n",
    "    else:\n",
    "        for i in range(5):\n",
    "            ticket_number_list.append(airline + \":\" + source[:3] + \":\" + destination[:3] + \":\" + str(100+no_of_passengers))\n",
    "            i = i+1\n",
    "            no_of_passengers = no_of_passengers - 1\n",
    "        ticket_number_list = ticket_number_list[::-1]\n",
    "\n",
    "    return ticket_number_list\n",
    "\n",
    "    #Use the below return statement wherever applicable\n",
    "    return ticket_number_list\n",
    "\n",
    "#Provide different values for airline,source,destination,no_of_passengers and test your program\n",
    "print(generate_ticket(\"AI\",\"Bangalore\",\"London\",7))"
   ]
  },
  {
   "cell_type": "code",
   "execution_count": 5,
   "id": "75e4cb29",
   "metadata": {},
   "outputs": [
    {
     "name": "stdout",
     "output_type": "stream",
     "text": [
      "Good Morning, this is the final call to AI passengers for the flight AI 466 which is planned to take off at 8.40A.M.\n",
      "Welcome to Air India.\n",
      "Passengers are requested to have their breakfast.\n",
      "Flight Number is specified to the passengers.\n",
      "Total number of times flight service name is specified in the boarding call: 2\n",
      "THANK YOU ALL..HAVE A NICE JOURNEY!\n",
      "thank you all..have a nice journey!\n"
     ]
    }
   ],
   "source": [
    "boarding_call=\"Good Evening, this is the final call to AI passengers for the flight AI 466 which is planned to take off at 8.40A.M.\"\n",
    "\n",
    "if(boarding_call.startswith(\"Good Evening\")):\n",
    "    print(boarding_call.replace(\"Good Evening\",\"Good Morning\"))\n",
    "\n",
    "if(boarding_call.find(\"AI\"))>=0:\n",
    "    print(\"Welcome to Air India.\")\n",
    "\n",
    "if(boarding_call.endswith(\"A.M.\")):\n",
    "    print(\"Passengers are requested to have their breakfast.\")\n",
    "\n",
    "a=boarding_call.split(\" \")\n",
    "for i in a:\n",
    "    if(i.isdigit()):\n",
    "        print(\"Flight Number is specified to the passengers.\")\n",
    "\n",
    "print(\"Total number of times flight service name is specified in the boarding call:\",boarding_call.count(\"AI\"))\n",
    "\n",
    "\n",
    "message=\"Thank you all..Have a nice journey!\"\n",
    "\n",
    "print(message.upper())\n",
    "\n",
    "print(message.lower())"
   ]
  },
  {
   "cell_type": "code",
   "execution_count": 6,
   "id": "13a342ad",
   "metadata": {},
   "outputs": [
    {
     "name": "stdout",
     "output_type": "stream",
     "text": [
      "2 AFE187B\n"
     ]
    }
   ],
   "source": [
    "pancard_list=[\"AABGT6715H\", \"UFFAC4352T\", \"IFSBD9163K\", \"JOOEC1225H\",\"RWXAFE187B\"] \n",
    "print(pancard_list[3][6], end=\" \")\n",
    "\n",
    "print(pancard_list[4][3:])"
   ]
  },
  {
   "cell_type": "code",
   "execution_count": 7,
   "id": "fd4d0057",
   "metadata": {},
   "outputs": [
    {
     "name": "stdout",
     "output_type": "stream",
     "text": [
      "come to Mys\n"
     ]
    }
   ],
   "source": [
    "message=\"welcome to Mysore\"\n",
    "word=message[-7:]\n",
    "if(word==\"mysore\"):\n",
    "    print(\"got it\")\n",
    "else:\n",
    "    message=message[3:14]\n",
    "    print(message)\n",
    "    "
   ]
  },
  {
   "cell_type": "code",
   "execution_count": 15,
   "id": "7cf29be1",
   "metadata": {},
   "outputs": [
    {
     "name": "stdout",
     "output_type": "stream",
     "text": [
      "JINGLE Bells jingle Bells\n",
      "1\n"
     ]
    }
   ],
   "source": [
    "song='JINGLE Bells jingle Bells Jingle All The Way'\n",
    "song.upper()\n",
    "print(song)\n",
    "song_words=song.split()\n",
    "count=0\n",
    "for word in song_words:\n",
    "    if(word.startswith(\"jingle\")):\n",
    "        count=count+1\n",
    "print(count)\n",
    " "
   ]
  },
  {
   "cell_type": "code",
   "execution_count": 17,
   "id": "9b7e323d",
   "metadata": {},
   "outputs": [
    {
     "name": "stdout",
     "output_type": "stream",
     "text": [
      "Python is Fun\n",
      "PYTHON IS FUN\n"
     ]
    }
   ],
   "source": [
    "message = 'Python is Fun'\n",
    "message.upper()\n",
    "#wont alter original message\n",
    "print(message)\n",
    "# convert message to uppercase\n",
    "print(message.upper())\n"
   ]
  },
  {
   "cell_type": "code",
   "execution_count": null,
   "id": "4a90823f",
   "metadata": {},
   "outputs": [],
   "source": []
  }
 ],
 "metadata": {
  "kernelspec": {
   "display_name": "Python 3 (ipykernel)",
   "language": "python",
   "name": "python3"
  },
  "language_info": {
   "codemirror_mode": {
    "name": "ipython",
    "version": 3
   },
   "file_extension": ".py",
   "mimetype": "text/x-python",
   "name": "python",
   "nbconvert_exporter": "python",
   "pygments_lexer": "ipython3",
   "version": "3.9.12"
  }
 },
 "nbformat": 4,
 "nbformat_minor": 5
}
