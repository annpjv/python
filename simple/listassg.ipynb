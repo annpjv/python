{
 "cells": [
  {
   "cell_type": "code",
   "execution_count": 2,
   "id": "fd91b213",
   "metadata": {},
   "outputs": [
    {
     "name": "stdout",
     "output_type": "stream",
     "text": [
      "[1952, 1956, 1960, 1964, 1968, 1972, 1976, 1980, 1984, 1988, 1992, 1996, 2000, 2004, 2008]\n"
     ]
    }
   ],
   "source": [
    "\"\"\"Write a Python program to generate the next 15 leap years starting from a given year.\n",
    "Populate the leap years into a list and display the list. \"\"\"\n",
    "def find_leap_years(given_year):\n",
    "    count=0\n",
    "    list_of_leap_years=[]\n",
    "    while(count<15):\n",
    "        if((given_year%400==0) or ((given_year%4==0) and (given_year%100!=0))):\n",
    "            list_of_leap_years.append(given_year)\n",
    "            count=count+1\n",
    "        given_year=given_year+1\n",
    "    return list_of_leap_years\n",
    "\n",
    "list_of_leap_years=find_leap_years(1950)\n",
    "print(list_of_leap_years)"
   ]
  },
  {
   "cell_type": "code",
   "execution_count": 26,
   "id": "16b4928e",
   "metadata": {},
   "outputs": [
    {
     "name": "stdout",
     "output_type": "stream",
     "text": [
      "68347.75\n"
     ]
    }
   ],
   "source": [
    "\"\"\"Write a Python program to calculate the bill amount to be paid by a \n",
    "customer based on the list of gems and quantity purchased. \n",
    "Any purchase with a total bill amount above Rs.30000 is entitled for 5% discount.\n",
    "If any gem required by the customer is not available in the store, then consider total bill amount to be -1.\n",
    "\n",
    "Assume that quantity required by the customer for any gem will always be greater than 0.\n",
    "\n",
    "Perform case-sensitive comparison wherever applicable.\"\"\"\n",
    "def calculate_bill_amount(gems_list, price_list, reqd_gems,reqd_quantity):\n",
    "    bill_amount=0\n",
    "    for gem in reqd_gems:\n",
    "        if gem in gems_list:\n",
    "            i1=gems_list.index(gem)\n",
    "            i2=reqd_gems.index(gem)\n",
    "            bill_amount=bill_amount+(price_list[i1]*reqd_quantity[i2])\n",
    "            if bill_amount>=30000:\n",
    "                bill_amount = bill_amount*0.95\n",
    "        else:\n",
    "                return -1\n",
    "    return bill_amount\n",
    "    \n",
    "reqd_quantity=[3,10,12]\n",
    "reqd_gems=[\"Ivory\",\"Emerald\",\"Garnet\"]\n",
    "gems_list=[\"Emerald\",\"Ivory\",\"Jasper\",\"Ruby\",\"Garnet\"]\n",
    "price_list=[1760,2119,1599,3920,3999]\n",
    "\n",
    "bill_amount=calculate_bill_amount(gems_list, price_list, reqd_gems, reqd_quantity)\n",
    "print(bill_amount)\n",
    "\n"
   ]
  },
  {
   "cell_type": "code",
   "execution_count": 40,
   "id": "206cb215",
   "metadata": {},
   "outputs": [
    {
     "name": "stdout",
     "output_type": "stream",
     "text": [
      "[23, 45, 67]\n",
      "[67, 45, 23]\n",
      "674523\n"
     ]
    }
   ],
   "source": [
    "\"\"\"Write a python function, create_largest_number(),\n",
    "which accepts a list of numbers and returns the largest number possible by concatenating the list of numbers.\n",
    "Note: Assume that all the numbers are two digit numbers.\n",
    " \"\"\"\n",
    "#Sample Input                     Expected Output\n",
    "#23,34,55                            553423\n",
    "\n",
    "def create_largest_number(number_list):\n",
    "    num=\"\"\n",
    "    number_list=sorted(number_list)\n",
    "    print(number_list)\n",
    "    rnumber_list=number_list[::-1]\n",
    "    print(rnumber_list)\n",
    "    for x in range(0,len(rnumber_list),1):\n",
    "        num+=str(rnumber_list[x])\n",
    "    return int(num)\n",
    "number_list=[23,45,67]\n",
    "largest_number=create_largest_number(number_list)\n",
    "print(largest_number)"
   ]
  },
  {
   "cell_type": "code",
   "execution_count": 42,
   "id": "d2d7c662",
   "metadata": {},
   "outputs": [
    {
     "name": "stdout",
     "output_type": "stream",
     "text": [
      "674523\n"
     ]
    }
   ],
   "source": [
    "#another varient\n",
    "def create_largest_number(number_list):\n",
    "    num=\"\"\n",
    "    number_list=sorted(number_list)\n",
    "    rnumber_list=number_list[::-1]\n",
    "    for x in rnumber_list:\n",
    "        num+=str(x)\n",
    "    return int(num)\n",
    "number_list=[23,45,67]\n",
    "largest_number=create_largest_number(number_list)\n",
    "print(largest_number)"
   ]
  },
  {
   "cell_type": "code",
   "execution_count": 46,
   "id": "95918a11",
   "metadata": {},
   "outputs": [
    {
     "name": "stdout",
     "output_type": "stream",
     "text": [
      "word is palindrome\n"
     ]
    }
   ],
   "source": [
    "\"\"\"Write a function, check_palindrome() to check whether the given string is a palindrome or not.\n",
    "The function should return true if it is a palindrome else it should return false.\n",
    "\n",
    "Note: Initialize the string with various values and test your program. \n",
    "Assume that all the letters in the given string are all of the same case. Example: MAN, civic, WOW etc.\"\"\"\n",
    "def check_palindrome(word):\n",
    "    x=word[::-1]\n",
    "    if x== word:\n",
    "        return True\n",
    "    else:\n",
    "        return False\n",
    "\n",
    "status=check_palindrome(\"malayalam\")\n",
    "if(status):\n",
    "    print(\"word is palindrome\")\n",
    "else:\n",
    "    print(\"word is not palindrome\")"
   ]
  },
  {
   "cell_type": "code",
   "execution_count": 51,
   "id": "3fbd648e",
   "metadata": {},
   "outputs": [
    {
     "name": "stdout",
     "output_type": "stream",
     "text": [
      "1A4B8C1A1B\n"
     ]
    }
   ],
   "source": [
    "\n",
    "\"\"\"Given a string containing uppercase characters (A-Z), compress the string using Run Length encoding.\n",
    "Repetition of character has to be replaced by storing the length of that run.\n",
    "Write a python function which performs the run length encoding for a given String \n",
    "and returns the run length encoded String.\n",
    "Provide different String values and test your program\n",
    "#Sample Input      Expected Output\n",
    "#AAAABBBBCCCCCCCC    4A4B8C\n",
    "#AABCCA\t                2A1B2C1A\n",
    "\"\"\"\n",
    "\n",
    "def encode(message):\n",
    "    output=''\n",
    "    previous=message[0]\n",
    "    i=1\n",
    "    count=1\n",
    "    while len(message)>i:\n",
    "        if previous==message[i]:\n",
    "            count+=1\n",
    "        else:\n",
    "            output+=str(count)+previous\n",
    "            count=1\n",
    "            previous=message[i]\n",
    "\n",
    "        if i==len(message)-1:\n",
    "            output += str(count) + previous\n",
    "        i+=1\n",
    "    if len(message)==1:\n",
    "        output += str(count) + previous\n",
    "    return output\n",
    "\n",
    "#Provide different values for message and test your program\n",
    "encoded_message=encode(\"ABBBBCCCCCCCCAB\")\n",
    "print(encoded_message)"
   ]
  },
  {
   "cell_type": "code",
   "execution_count": 52,
   "id": "00df62df",
   "metadata": {},
   "outputs": [
    {
     "name": "stdout",
     "output_type": "stream",
     "text": [
      "30\n",
      "[12, 7, 3, 4, 6]\n"
     ]
    }
   ],
   "source": [
    "\"\"\"A teacher is conducting a camp for a group of five children. \n",
    "Based on their performance and behavior during the camp, the teacher rewards them with chocolates.\n",
    "\n",
    "Write a Python function to\n",
    "\n",
    "1. Find the total number of chocolates received by all the children put together.\n",
    "Assume that each child is identified by an id and it is stored in a tuple and the number of chocolates given to each child is stored in a list.\n",
    "\n",
    "2. The teacher also rewards a child with few extra chocolates for his/her best conduct during the camp.\n",
    "\n",
    "If the number of extra chocolates is less than 1, an error message \"Extra chocolates is less than 1\", should be displayed.\n",
    "\n",
    "If the given child Id is invalid, an error message \"Child id is invalid\" should be displayed. \n",
    "Otherwise, the extra chocolates provided for the child must be added to his/her existing number of chocolates \n",
    "and display the list containing the total number of chocolates received by each child.\"\"\"\n",
    "\n",
    "child_id=(10,20,30,40,50)\n",
    "chocolates_received=[12,5,3,4,6]\n",
    "\n",
    "def calculate_total_chocolates():\n",
    "    sum = 0\n",
    "    for choco in chocolates_received:\n",
    "        sum = sum + choco\n",
    "\n",
    "    return sum\n",
    "\n",
    "def reward_child(child_id_rewarded,extra_chocolates):\n",
    "    if extra_chocolates < 1:\n",
    "        print(\"Extra chocolates is less than 1\")\n",
    "    elif child_id_rewarded not in child_id:\n",
    "        print(\"Child id is invalid\")\n",
    "    else:\n",
    "        length = len(child_id)\n",
    "\n",
    "        for num in range(length-1):\n",
    "            if child_id_rewarded == child_id[num]:\n",
    "                chocolates_received[num] = chocolates_received[num] + extra_chocolates\n",
    "        print(chocolates_received)\n",
    "\n",
    "\n",
    "print(calculate_total_chocolates())\n",
    "#Test your code by passing different values for child_id_rewarded,extra_chocolates\n",
    "reward_child(20,2)"
   ]
  },
  {
   "cell_type": "code",
   "execution_count": null,
   "id": "924a438d",
   "metadata": {},
   "outputs": [],
   "source": []
  }
 ],
 "metadata": {
  "kernelspec": {
   "display_name": "Python 3 (ipykernel)",
   "language": "python",
   "name": "python3"
  },
  "language_info": {
   "codemirror_mode": {
    "name": "ipython",
    "version": 3
   },
   "file_extension": ".py",
   "mimetype": "text/x-python",
   "name": "python",
   "nbconvert_exporter": "python",
   "pygments_lexer": "ipython3",
   "version": "3.9.12"
  }
 },
 "nbformat": 4,
 "nbformat_minor": 5
}
